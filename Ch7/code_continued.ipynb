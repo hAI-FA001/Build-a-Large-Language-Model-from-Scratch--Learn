{
 "cells": [
  {
   "cell_type": "code",
   "execution_count": 1,
   "id": "cc309ba8",
   "metadata": {},
   "outputs": [],
   "source": [
    "# verify ollama\n",
    "\n",
    "import psutil\n",
    "\n",
    "def check_if_running(process_name):\n",
    "    running = False\n",
    "\n",
    "    for proc in psutil.process_iter(['name']):\n",
    "        if process_name in proc.info['name']:\n",
    "            running = True\n",
    "            break\n",
    "\n",
    "    return running"
   ]
  },
  {
   "cell_type": "code",
   "execution_count": 2,
   "id": "f194fefb",
   "metadata": {},
   "outputs": [
    {
     "name": "stdout",
     "output_type": "stream",
     "text": [
      "Ollama running: True\n"
     ]
    }
   ],
   "source": [
    "ollama_running = check_if_running('ollama')\n",
    "\n",
    "if not ollama_running:\n",
    "    raise RuntimeError(\"Ollama not running.\")\n",
    "\n",
    "print(f'Ollama running: {check_if_running('ollama')}')"
   ]
  },
  {
   "cell_type": "code",
   "execution_count": 3,
   "id": "6abfcb8c",
   "metadata": {},
   "outputs": [],
   "source": [
    "import json\n",
    "from tqdm import tqdm\n",
    "\n",
    "file_path = 'instruction-data-with-response.json'\n",
    "with open(file_path, 'r') as f:\n",
    "    test_data = json.load(f)\n",
    "\n",
    "def format_input(entry):\n",
    "    instruction_text = (\n",
    "        f\"Below is an instruction that describes a task. \"\n",
    "        f\"Write a response that appropriately completes the request.\"\n",
    "        f\"\\n\\n### Instruction:\\n{entry['instruction']}\"\n",
    "    )\n",
    "    input_text = (\n",
    "        f\"\\n\\n### Input:\\n{entry['input']}\" if entry[\"input\"] else \"\"\n",
    "    )\n",
    "\n",
    "    return instruction_text + input_text"
   ]
  },
  {
   "cell_type": "code",
   "execution_count": 4,
   "id": "7d15773a",
   "metadata": {},
   "outputs": [],
   "source": [
    "# interacting with Ollama API\n",
    "\n",
    "import urllib.request\n",
    "\n",
    "def query_model(prompt, model='gemma3:4b', url='http://localhost:11434/api/chat'):\n",
    "    data = {\n",
    "        'model': model,\n",
    "        'messages': [\n",
    "            {'role': 'user', 'content': prompt}\n",
    "        ],\n",
    "        'options': {\n",
    "            'seed': 123,\n",
    "            'temperature': 0,\n",
    "            'num_ctx': 2048,\n",
    "        }\n",
    "    }\n",
    "\n",
    "    payload = json.dumps(data).encode('utf-8')\n",
    "    request = urllib.request.Request(url, data=payload, method='POST')\n",
    "    request.add_header('Content-Type', 'application/json')\n",
    "\n",
    "    response_data = \"\"\n",
    "    with urllib.request.urlopen(request) as response:\n",
    "        while True:\n",
    "            line = response.readline().decode('utf-8')\n",
    "            if not line:\n",
    "                break\n",
    "            response_json = json.loads(line)\n",
    "            response_data += response_json['message']['content']\n",
    "    \n",
    "    return response_data"
   ]
  },
  {
   "cell_type": "code",
   "execution_count": null,
   "id": "9af94117",
   "metadata": {},
   "outputs": [],
   "source": [
    "model = 'gemma3:270m'\n",
    "result = query_model('What do Llamas eat?', model)\n",
    "print(result)"
   ]
  },
  {
   "cell_type": "code",
   "execution_count": null,
   "id": "1f17a19c",
   "metadata": {},
   "outputs": [],
   "source": []
  }
 ],
 "metadata": {
  "kernelspec": {
   "display_name": "code-book",
   "language": "python",
   "name": "python3"
  },
  "language_info": {
   "codemirror_mode": {
    "name": "ipython",
    "version": 3
   },
   "file_extension": ".py",
   "mimetype": "text/x-python",
   "name": "python",
   "nbconvert_exporter": "python",
   "pygments_lexer": "ipython3",
   "version": "3.12.1"
  }
 },
 "nbformat": 4,
 "nbformat_minor": 5
}
