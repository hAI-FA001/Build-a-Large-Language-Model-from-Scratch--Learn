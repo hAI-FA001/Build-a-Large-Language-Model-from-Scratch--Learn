{
 "cells": [
  {
   "cell_type": "code",
   "execution_count": 2,
   "id": "71597d08",
   "metadata": {},
   "outputs": [],
   "source": [
    "import sentencepiece\n",
    "import torch\n",
    "import torch.nn as nn"
   ]
  },
  {
   "cell_type": "markdown",
   "id": "b94594ca",
   "metadata": {},
   "source": [
    "### RMSNorm instead of LayerNorm"
   ]
  },
  {
   "cell_type": "code",
   "execution_count": 3,
   "id": "215fdd65",
   "metadata": {},
   "outputs": [],
   "source": [
    "class RMSNorm(nn.Module):\n",
    "    def __init__(self, emb_dim, eps=1e-5):\n",
    "        super().__init__()\n",
    "\n",
    "        self.eps = eps\n",
    "        self.emb_dim = emb_dim\n",
    "        # only 1 parameter\n",
    "        self.weight = nn.Parameter(torch.ones(emb_dim)).float()\n",
    "    \n",
    "    def forward(self, x):\n",
    "        # RMS -> Root Mean Square\n",
    "        # x^2 -> mean -> root\n",
    "        means = x.pow(2).mean(dim=-1, keepdim=True)\n",
    "        x_normed = x * torch.rsqrt(means + self.eps)\n",
    "        # normalize input by this\n",
    "        return (x_normed * self.weight).to(dtype=x.dtype)"
   ]
  },
  {
   "cell_type": "code",
   "execution_count": 4,
   "id": "8f8c3497",
   "metadata": {},
   "outputs": [],
   "source": [
    "# verify\n",
    "\n",
    "torch.manual_seed(123)\n",
    "example = torch.randn(2,3,4)\n",
    "rms_norm = RMSNorm(emb_dim=example.shape[-1])\n",
    "rms_norm_pt = torch.nn.RMSNorm(normalized_shape=example.shape[-1], eps=1e-5)\n",
    "\n",
    "assert torch.allclose(rms_norm(example), rms_norm_pt(example))"
   ]
  },
  {
   "cell_type": "markdown",
   "id": "d8f9c3ec",
   "metadata": {},
   "source": [
    "### SiLU instead of GELU"
   ]
  },
  {
   "cell_type": "code",
   "execution_count": 5,
   "id": "79f8090a",
   "metadata": {},
   "outputs": [],
   "source": [
    "class SiLU(nn.Module):\n",
    "    def __init__(self):\n",
    "        super(SiLU, self).__init__()\n",
    "    \n",
    "    def forward(self, x):\n",
    "        return x * torch.sigmoid(x)"
   ]
  },
  {
   "cell_type": "code",
   "execution_count": 6,
   "id": "f5984825",
   "metadata": {},
   "outputs": [],
   "source": [
    "# verify\n",
    "\n",
    "silu = SiLU()\n",
    "assert torch.allclose(silu(example), torch.nn.functional.silu(example))"
   ]
  },
  {
   "cell_type": "markdown",
   "id": "01bcc961",
   "metadata": {},
   "source": [
    "### Update FF - SwiGLU (Gating)"
   ]
  },
  {
   "cell_type": "code",
   "execution_count": 8,
   "id": "2d7ecbd5",
   "metadata": {},
   "outputs": [],
   "source": [
    "class FeedForward(nn.Module):\n",
    "    def __init__(self, cfg):\n",
    "        super().__init__()\n",
    "\n",
    "        # cfg['dtype'] will allow loading in lower precision format\n",
    "        self.fc1 = nn.Linear(cfg['emb_dim'], cfg['hidden_dim'], dtype=cfg['dtype'], bias=False)\n",
    "        self.fc2 = nn.Linear(cfg['emb_dim'], cfg['hidden_dim'], dtype=cfg['dtype'], bias=False)\n",
    "        self.fc3 = nn.Linear(cfg['hidden_dim'], cfg['emb_dim'], dtype=cfg['dtype'], bias=False)\n",
    "        self.silu = SiLU()\n",
    "    \n",
    "    def forward(self, x):\n",
    "        x_fc1 = self.fc1(x)\n",
    "        x_fc2 = self.fc2(x)\n",
    "        x = self.silu(x_fc1) * x_fc2\n",
    "        return self.fc3(x)"
   ]
  },
  {
   "cell_type": "code",
   "execution_count": null,
   "id": "15f32040",
   "metadata": {},
   "outputs": [],
   "source": []
  }
 ],
 "metadata": {
  "kernelspec": {
   "display_name": "code-book",
   "language": "python",
   "name": "python3"
  },
  "language_info": {
   "codemirror_mode": {
    "name": "ipython",
    "version": 3
   },
   "file_extension": ".py",
   "mimetype": "text/x-python",
   "name": "python",
   "nbconvert_exporter": "python",
   "pygments_lexer": "ipython3",
   "version": "3.12.1"
  }
 },
 "nbformat": 4,
 "nbformat_minor": 5
}
