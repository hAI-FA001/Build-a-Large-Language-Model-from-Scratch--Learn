{
 "cells": [
  {
   "cell_type": "code",
   "execution_count": 2,
   "id": "71597d08",
   "metadata": {},
   "outputs": [],
   "source": [
    "import sentencepiece\n",
    "import torch\n",
    "import torch.nn as nn"
   ]
  },
  {
   "cell_type": "markdown",
   "id": "b94594ca",
   "metadata": {},
   "source": [
    "### RMSNorm instead of LayerNorm"
   ]
  },
  {
   "cell_type": "code",
   "execution_count": 3,
   "id": "215fdd65",
   "metadata": {},
   "outputs": [],
   "source": [
    "class RMSNorm(nn.Module):\n",
    "    def __init__(self, emb_dim, eps=1e-5):\n",
    "        super().__init__()\n",
    "\n",
    "        self.eps = eps\n",
    "        self.emb_dim = emb_dim\n",
    "        # only 1 parameter\n",
    "        self.weight = nn.Parameter(torch.ones(emb_dim)).float()\n",
    "    \n",
    "    def forward(self, x):\n",
    "        # RMS -> Root Mean Square\n",
    "        # x^2 -> mean -> root\n",
    "        means = x.pow(2).mean(dim=-1, keepdim=True)\n",
    "        x_normed = x * torch.rsqrt(means + self.eps)\n",
    "        # normalize input by this\n",
    "        return (x_normed * self.weight).to(dtype=x.dtype)"
   ]
  },
  {
   "cell_type": "code",
   "execution_count": 4,
   "id": "8f8c3497",
   "metadata": {},
   "outputs": [],
   "source": [
    "# verify\n",
    "\n",
    "torch.manual_seed(123)\n",
    "example = torch.randn(2,3,4)\n",
    "rms_norm = RMSNorm(emb_dim=example.shape[-1])\n",
    "rms_norm_pt = torch.nn.RMSNorm(normalized_shape=example.shape[-1], eps=1e-5)\n",
    "\n",
    "assert torch.allclose(rms_norm(example), rms_norm_pt(example))"
   ]
  },
  {
   "cell_type": "code",
   "execution_count": null,
   "id": "79f8090a",
   "metadata": {},
   "outputs": [],
   "source": []
  }
 ],
 "metadata": {
  "kernelspec": {
   "display_name": "code-book",
   "language": "python",
   "name": "python3"
  },
  "language_info": {
   "codemirror_mode": {
    "name": "ipython",
    "version": 3
   },
   "file_extension": ".py",
   "mimetype": "text/x-python",
   "name": "python",
   "nbconvert_exporter": "python",
   "pygments_lexer": "ipython3",
   "version": "3.12.1"
  }
 },
 "nbformat": 4,
 "nbformat_minor": 5
}
