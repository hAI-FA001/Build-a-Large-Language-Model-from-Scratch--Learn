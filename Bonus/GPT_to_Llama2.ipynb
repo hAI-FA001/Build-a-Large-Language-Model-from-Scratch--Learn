{
 "cells": [
  {
   "cell_type": "code",
   "execution_count": 2,
   "id": "71597d08",
   "metadata": {},
   "outputs": [],
   "source": [
    "import sentencepiece\n",
    "import torch\n",
    "import torch.nn as nn"
   ]
  },
  {
   "cell_type": "markdown",
   "id": "b94594ca",
   "metadata": {},
   "source": [
    "### RMSNorm instead of LayerNorm"
   ]
  },
  {
   "cell_type": "code",
   "execution_count": 3,
   "id": "215fdd65",
   "metadata": {},
   "outputs": [],
   "source": [
    "class RMSNorm(nn.Module):\n",
    "    def __init__(self, emb_dim, eps=1e-5):\n",
    "        super().__init__()\n",
    "\n",
    "        self.eps = eps\n",
    "        self.emb_dim = emb_dim\n",
    "        # only 1 parameter\n",
    "        self.weight = nn.Parameter(torch.ones(emb_dim)).float()\n",
    "    \n",
    "    def forward(self, x):\n",
    "        # RMS -> Root Mean Square\n",
    "        # x^2 -> mean -> root\n",
    "        means = x.pow(2).mean(dim=-1, keepdim=True)\n",
    "        x_normed = x * torch.rsqrt(means + self.eps)\n",
    "        # normalize input by this\n",
    "        return (x_normed * self.weight).to(dtype=x.dtype)"
   ]
  },
  {
   "cell_type": "code",
   "execution_count": 4,
   "id": "8f8c3497",
   "metadata": {},
   "outputs": [],
   "source": [
    "# verify\n",
    "\n",
    "torch.manual_seed(123)\n",
    "example = torch.randn(2,3,4)\n",
    "rms_norm = RMSNorm(emb_dim=example.shape[-1])\n",
    "rms_norm_pt = torch.nn.RMSNorm(normalized_shape=example.shape[-1], eps=1e-5)\n",
    "\n",
    "assert torch.allclose(rms_norm(example), rms_norm_pt(example))"
   ]
  },
  {
   "cell_type": "markdown",
   "id": "d8f9c3ec",
   "metadata": {},
   "source": [
    "### SiLU instead of GELU"
   ]
  },
  {
   "cell_type": "code",
   "execution_count": 5,
   "id": "79f8090a",
   "metadata": {},
   "outputs": [],
   "source": [
    "class SiLU(nn.Module):\n",
    "    def __init__(self):\n",
    "        super(SiLU, self).__init__()\n",
    "    \n",
    "    def forward(self, x):\n",
    "        return x * torch.sigmoid(x)"
   ]
  },
  {
   "cell_type": "code",
   "execution_count": 6,
   "id": "f5984825",
   "metadata": {},
   "outputs": [],
   "source": [
    "# verify\n",
    "\n",
    "silu = SiLU()\n",
    "assert torch.allclose(silu(example), torch.nn.functional.silu(example))"
   ]
  },
  {
   "cell_type": "markdown",
   "id": "01bcc961",
   "metadata": {},
   "source": [
    "### Update FF - SwiGLU (Gating)"
   ]
  },
  {
   "cell_type": "code",
   "execution_count": 8,
   "id": "2d7ecbd5",
   "metadata": {},
   "outputs": [],
   "source": [
    "class FeedForward(nn.Module):\n",
    "    def __init__(self, cfg):\n",
    "        super().__init__()\n",
    "\n",
    "        # cfg['dtype'] will allow loading in lower precision format\n",
    "        self.fc1 = nn.Linear(cfg['emb_dim'], cfg['hidden_dim'], dtype=cfg['dtype'], bias=False)\n",
    "        self.fc2 = nn.Linear(cfg['emb_dim'], cfg['hidden_dim'], dtype=cfg['dtype'], bias=False)\n",
    "        self.fc3 = nn.Linear(cfg['hidden_dim'], cfg['emb_dim'], dtype=cfg['dtype'], bias=False)\n",
    "        self.silu = SiLU()\n",
    "    \n",
    "    def forward(self, x):\n",
    "        x_fc1 = self.fc1(x)\n",
    "        x_fc2 = self.fc2(x)\n",
    "        x = self.silu(x_fc1) * x_fc2\n",
    "        return self.fc3(x)"
   ]
  },
  {
   "cell_type": "markdown",
   "id": "e7907aea",
   "metadata": {},
   "source": [
    "### Rotary Positional Embedding"
   ]
  },
  {
   "cell_type": "code",
   "execution_count": 9,
   "id": "15f32040",
   "metadata": {},
   "outputs": [],
   "source": [
    "def precompute_rope_params(head_dim, theta_base=10_000, context_len=4096):\n",
    "    assert head_dim % 2 == 0, 'Head dimension must be even'\n",
    "\n",
    "    p = torch.arange(0, head_dim, 2)\n",
    "    p = p[:head_dim//2].float()\n",
    "    p = p / head_dim\n",
    "    inv_freq = 1.0 / (theta_base**p)\n",
    "\n",
    "    positions = torch.arange(context_len)\n",
    "    angles = positions[:, None] * inv_freq[None, :]\n",
    "    # (context, head_dim // 2) -> (context, head_dim)\n",
    "    angles = torch.cat([angles, angles], dim=1)\n",
    "\n",
    "    cos = torch.cos(angles)\n",
    "    sin = torch.sin(angles)\n",
    "\n",
    "    return cos, sin\n",
    "\n",
    "def compute_rope(x, cos, sin):\n",
    "    batch_size, num_heads, seq_len, head_dim = x.shape\n",
    "    assert head_dim % 2 == 0, 'Head dimension must be even'\n",
    "\n",
    "    # split into 2 halves\n",
    "    x1 = x[..., :head_dim//2]\n",
    "    x2 = x[..., head_dim//2:]\n",
    "\n",
    "    # (1, 1, seq_len, head_dim)\n",
    "    cos = cos[:seq_len, :].unsqueeze(0).unsqueeze(0)\n",
    "    sin = sin[:seq_len, :].unsqueeze(0).unsqueeze(0)\n",
    "\n",
    "    rotated = torch.cat((-x2, x1), dim=-1)\n",
    "    x_rotated = (x*cos) + (rotated*sin)\n",
    "\n",
    "    return x_rotated.to(dtype=x.dtype)"
   ]
  },
  {
   "cell_type": "code",
   "execution_count": 10,
   "id": "a9167b75",
   "metadata": {},
   "outputs": [],
   "source": [
    "batch_size = 2\n",
    "context_len = 5\n",
    "num_heads = 4\n",
    "head_dim = 16\n",
    "\n",
    "cos, sin = precompute_rope_params(head_dim, context_len=context_len)\n",
    "\n",
    "torch.manual_seed(123)\n",
    "queries = torch.randn(batch_size, num_heads, context_len, head_dim)\n",
    "keys = torch.randn(batch_size, num_heads, context_len, head_dim)\n",
    "\n",
    "queries_rot = compute_rope(queries, cos, sin)\n",
    "keys_rot = compute_rope(keys, cos, sin)"
   ]
  },
  {
   "cell_type": "code",
   "execution_count": 11,
   "id": "9b8f7d24",
   "metadata": {},
   "outputs": [],
   "source": [
    "class MultiHeadAttention(nn.Module):\n",
    "    def __init__(self, d_in, d_out, context_len, num_heads, dtype=None):\n",
    "        super().__init__()\n",
    "\n",
    "        assert d_out % num_heads == 0, 'd_out must be divisible by num_heads'\n",
    "\n",
    "        self.d_out = d_out\n",
    "        self.num_heads = num_heads\n",
    "        self.head_dim = d_out // num_heads\n",
    "\n",
    "        # no bias\n",
    "        self.W_q = nn.Linear(d_in, d_out, bias=False, dtype=dtype)\n",
    "        self.W_k = nn.Linear(d_in, d_out, bias=False, dtype=dtype)\n",
    "        self.W_v = nn.Linear(d_in, d_out, bias=False, dtype=dtype)\n",
    "        self.out_proj = nn.Linear(d_out, d_out, bias=False, dtype=dtype)\n",
    "        \n",
    "        self.register_buffer('mask', torch.triu(torch.ones(context_len, context_len), diagonal=1))\n",
    "\n",
    "        cos, sin = precompute_rope_params(head_dim=self.head_dim, context_len=context_len)\n",
    "        self.register_buffer('cos', cos)\n",
    "        self.register_buffer('sin', sin)\n",
    "    \n",
    "    def forward(self, x):\n",
    "        b, num_tokens, d_in = x.shape\n",
    "\n",
    "        queries = self.W_q(x)\n",
    "        keys = self.W_k(x)\n",
    "        values = self.W_v(x)\n",
    "\n",
    "        # (b, num_tokens, d_out) -> (b, num_tokens, num_heads, head_dim)\n",
    "        queries = queries.view(b, num_tokens, self.num_heads, self.head_dim)\n",
    "        keys = keys.view(b, num_tokens, self.num_heads, self.head_dim)\n",
    "        values = values.view(b, num_tokens, self.num_heads, self.head_dim)\n",
    "\n",
    "        queries = queries.transpose(1,2)\n",
    "        keys = keys.transpose(1,2)\n",
    "        values = values.transpose(1,2)\n",
    "\n",
    "        queries = compute_rope(queries, self.cos, self.sin)\n",
    "        keys = compute_rope(keys, self.cos, self.sin)\n",
    "\n",
    "        attn_scores = queries @ keys.transpose(2,3)\n",
    "        mask_bool = self.mask.bool()[:num_tokens, :num_tokens]\n",
    "        attn_scores.masked_fill_(mask_bool, -torch.inf)\n",
    "\n",
    "        attn_weights = torch.softmax(attn_scores / keys.shape[-1]**0.5, dim=-1)\n",
    "        context_vec = (attn_weights @ values).transpose(1,2)\n",
    "        context_vec = context_vec.reshape(b, num_tokens, self.d_out)\n",
    "        context_vec = self.out_proj(context_vec)\n",
    "\n",
    "        return context_vec\n"
   ]
  },
  {
   "cell_type": "code",
   "execution_count": 13,
   "id": "b0c3bbc0",
   "metadata": {},
   "outputs": [],
   "source": [
    "batch_size = 1\n",
    "context_len = 100\n",
    "max_context_len = 4096\n",
    "emb_dim = 128\n",
    "num_heads = 4\n",
    "\n",
    "example = torch.randn((batch_size, context_len, emb_dim))\n",
    "mha = MultiHeadAttention(emb_dim, emb_dim, max_context_len, num_heads)\n",
    "mha(example)\n",
    "\n",
    "del mha  # deallocate memory"
   ]
  },
  {
   "cell_type": "markdown",
   "id": "3d54be1f",
   "metadata": {},
   "source": [
    "### TransformerBlock"
   ]
  },
  {
   "cell_type": "code",
   "execution_count": 14,
   "id": "47821ad8",
   "metadata": {},
   "outputs": [],
   "source": [
    "class TransformerBlock(nn.Module):\n",
    "    def __init__(self, cfg):\n",
    "        super().__init__()\n",
    "\n",
    "        self.attn = MultiHeadAttention(\n",
    "            d_in=cfg['emb_dim'],\n",
    "            d_out=cfg['emb_dim'],\n",
    "            context_len=cfg['context_len'],\n",
    "            num_heads=cfg['n_heads'],\n",
    "            dtype=cfg['dtype'],\n",
    "        )\n",
    "\n",
    "        self.ff = FeedForward(cfg)\n",
    "        self.norm1 = RMSNorm(cfg['emb_dim'])\n",
    "        self.norm2 = RMSNorm(cfg['emb_dim'])\n",
    "    \n",
    "    def forward(self, x):\n",
    "        shortcut = x\n",
    "        x = self.norm1(x)\n",
    "        x = self.attn(x)\n",
    "        x = x + shortcut\n",
    "        \n",
    "        shortcut = x\n",
    "        x = self.norm2(x)\n",
    "        x = self.ff(x)\n",
    "        x = x + shortcut\n",
    "\n",
    "        return x"
   ]
  },
  {
   "cell_type": "code",
   "execution_count": null,
   "id": "425993e8",
   "metadata": {},
   "outputs": [],
   "source": []
  }
 ],
 "metadata": {
  "kernelspec": {
   "display_name": "code-book",
   "language": "python",
   "name": "python3"
  },
  "language_info": {
   "codemirror_mode": {
    "name": "ipython",
    "version": 3
   },
   "file_extension": ".py",
   "mimetype": "text/x-python",
   "name": "python",
   "nbconvert_exporter": "python",
   "pygments_lexer": "ipython3",
   "version": "3.12.1"
  }
 },
 "nbformat": 4,
 "nbformat_minor": 5
}
