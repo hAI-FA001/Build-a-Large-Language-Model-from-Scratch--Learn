{
 "cells": [
  {
   "cell_type": "code",
   "execution_count": 1,
   "id": "2eb44a5a",
   "metadata": {},
   "outputs": [],
   "source": [
    "import torch\n",
    "import torch.nn as nn"
   ]
  },
  {
   "cell_type": "code",
   "execution_count": 2,
   "id": "5cb3669f",
   "metadata": {},
   "outputs": [],
   "source": [
    "from deps.other_components import FeedForward_SwiGLU"
   ]
  },
  {
   "cell_type": "code",
   "execution_count": 3,
   "id": "80781711",
   "metadata": {},
   "outputs": [],
   "source": [
    "class RMSNorm_Qwen(nn.Module):\n",
    "    def __init__(self, emb_dim, eps=1e-6, bias=False):\n",
    "        super().__init__()\n",
    "\n",
    "        self.eps = eps\n",
    "        # Llama had only 1 parameter\n",
    "        self.scale = nn.Parameter(torch.ones(emb_dim))\n",
    "        self.shift = nn.Parameter(torch.zeros(emb_dim)) if bias else None\n",
    "    \n",
    "    def forward(self, x):\n",
    "        input_dtype = x.dtype\n",
    "        x = x.to(torch.float32)  # for Qwen\n",
    "        \n",
    "        # RMSNorm\n",
    "        variance = x.pow(2).mean(dim=-1, keepdim=True)\n",
    "        norm_x = x * torch.rsqrt(variance + self.eps)\n",
    "\n",
    "        # new\n",
    "        norm_x = norm_x * self.scale\n",
    "        if self.shift is not None:\n",
    "            norm_x = norm_x + self.shift\n",
    "        \n",
    "        return norm_x.to(input_dtype)"
   ]
  },
  {
   "cell_type": "code",
   "execution_count": 4,
   "id": "52cf6834",
   "metadata": {},
   "outputs": [],
   "source": [
    "from deps.other_components import precompute_rope_params, compute_rope"
   ]
  },
  {
   "cell_type": "code",
   "execution_count": 5,
   "id": "22b6aa4d",
   "metadata": {},
   "outputs": [],
   "source": [
    "class GroupedQueryAttention(nn.Module):\n",
    "    def __init__(self, d_in, num_heads, num_kv_groups,\n",
    "                    head_dim=None, dtype=None):\n",
    "        super().__init__()\n",
    "        assert num_heads % num_kv_groups == 0, 'num_heads must be divisible by num_kv_groups'\n",
    "\n",
    "        self.num_heads = num_heads\n",
    "        self.num_kv_groups = num_kv_groups\n",
    "        self.group_size = num_heads // num_kv_groups\n",
    "\n",
    "        if head_dim is None:\n",
    "            assert d_in % num_heads == 0, 'd_in must be divisible by num_heads if head_dim is not provided'\n",
    "            head_dim = d_in // num_heads\n",
    "        self.head_dim = head_dim\n",
    "        # if head_dim not provided then:\n",
    "        #   d_out = num_heads * head_dim = num_heads * (d_in / num_heads) = d_in\n",
    "        #   so, d_out = d_in\n",
    "        self.d_out = num_heads*head_dim\n",
    "\n",
    "        self.W_q = nn.Linear(d_in, self.d_out, bias=False, dtype=dtype)\n",
    "        # if head_dim not provided, then:\n",
    "        #   num_kv_groups * head_dim = num_kv_groups * d_in / num_heads\n",
    "        #       = (num_kv_groups / num_heads) * d_in\n",
    "        #       = (1 / group_size) * d_in = d_in / group_size\n",
    "        # in GQA, K and V are repeated \"group_size\" times, so:\n",
    "        #       = group_size * ((1 / group_size) * d_in)\n",
    "        #       = d_in\n",
    "        self.W_k = nn.Linear(d_in, num_kv_groups*head_dim, bias=False, dtype=dtype)\n",
    "        self.W_v = nn.Linear(d_in, num_kv_groups*head_dim, bias=False, dtype=dtype)\n",
    "\n",
    "        self.out_proj = nn.Linear(self.d_out, d_in, bias=False, dtype=dtype)\n",
    "\n",
    "        # new, QK-Norm\n",
    "        self.q_norm = RMSNorm_Qwen(head_dim, eps=1e-6)\n",
    "        self.k_norm = RMSNorm_Qwen(head_dim, eps=1e-6)\n",
    "    \n",
    "    def forward(self, x, mask, cos, sin):\n",
    "        b, num_tokens, _ = x.shape\n",
    "\n",
    "        queries = self.W_q(x)  # (b, num_tokens, num_heads * head_dim)\n",
    "        keys = self.W_k(x)  # (b, num_tokens, num_kv_groups * head_dim)\n",
    "        values = self.W_v(x)  # (b, num_tokens, num_kv_groups * head_dim)\n",
    "\n",
    "        # \"un-flatten\" last dims\n",
    "        queries = queries.view(b, num_tokens, self.num_heads, self.head_dim)\n",
    "        keys = keys.view(b, num_tokens, self.num_kv_groups, self.head_dim)\n",
    "        values = values.view(b, num_tokens, self.num_kv_groups, self.head_dim)\n",
    "        \n",
    "        queries = queries.transpose(1,2)\n",
    "        keys = keys.transpose(1,2)\n",
    "        values = values.transpose(1,2)\n",
    "\n",
    "        # new\n",
    "        queries = self.q_norm(queries)\n",
    "        keys = self.k_norm(keys)\n",
    "\n",
    "        queries = compute_rope(queries, cos, sin)\n",
    "        keys = compute_rope(keys, cos, sin)\n",
    "\n",
    "        # (..., head_dim, num_kv_groups) -> (..., head_dim, num_heads)\n",
    "        #   num_heads / num_kv_groups = group_size\n",
    "        #   => num_heads = num_kv_groups * group_size\n",
    "        keys = keys.repeat_interleave(self.group_size, dim=1)\n",
    "        values = values.repeat_interleave(self.group_size, dim=1)\n",
    "\n",
    "        attn_scores = queries @ keys.transpose(2,3)\n",
    "        attn_scores = attn_scores.masked_fill(mask, -torch.inf)\n",
    "        attn_weights = torch.softmax(attn_scores / self.head_dim**0.5, dim=-1)\n",
    "\n",
    "        context = (attn_weights @ values).transpose(1,2).reshape(b, num_tokens, self.d_out)\n",
    "        return self.out_proj(context)"
   ]
  },
  {
   "cell_type": "code",
   "execution_count": null,
   "id": "72aaeaaa",
   "metadata": {},
   "outputs": [],
   "source": []
  }
 ],
 "metadata": {
  "kernelspec": {
   "display_name": "code-book",
   "language": "python",
   "name": "python3"
  },
  "language_info": {
   "codemirror_mode": {
    "name": "ipython",
    "version": 3
   },
   "file_extension": ".py",
   "mimetype": "text/x-python",
   "name": "python",
   "nbconvert_exporter": "python",
   "pygments_lexer": "ipython3",
   "version": "3.12.1"
  }
 },
 "nbformat": 4,
 "nbformat_minor": 5
}
