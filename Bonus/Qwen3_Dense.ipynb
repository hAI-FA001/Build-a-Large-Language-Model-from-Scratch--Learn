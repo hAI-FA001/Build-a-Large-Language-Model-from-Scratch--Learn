{
 "cells": [
  {
   "cell_type": "code",
   "execution_count": 1,
   "id": "2eb44a5a",
   "metadata": {},
   "outputs": [],
   "source": [
    "import torch\n",
    "import torch.nn as nn"
   ]
  },
  {
   "cell_type": "code",
   "execution_count": 2,
   "id": "5cb3669f",
   "metadata": {},
   "outputs": [],
   "source": [
    "from deps.other_components import FeedForward_SwiGLU"
   ]
  },
  {
   "cell_type": "code",
   "execution_count": 3,
   "id": "80781711",
   "metadata": {},
   "outputs": [],
   "source": [
    "class RMSNorm_Qwen(nn.Module):\n",
    "    def __init__(self, emb_dim, eps=1e-6, bias=False):\n",
    "        super().__init__()\n",
    "\n",
    "        self.eps = eps\n",
    "        # Llama had only 1 parameter\n",
    "        self.scale = nn.Parameter(torch.ones(emb_dim))\n",
    "        self.shift = nn.Parameter(torch.zeros(emb_dim)) if bias else None\n",
    "    \n",
    "    def forward(self, x):\n",
    "        input_dtype = x.dtype\n",
    "        x = x.to(torch.float32)  # for Qwen\n",
    "        \n",
    "        # RMSNorm\n",
    "        variance = x.pow(2).mean(dim=-1, keepdim=True)\n",
    "        norm_x = x * torch.rsqrt(variance + self.eps)\n",
    "\n",
    "        # new\n",
    "        norm_x = norm_x * self.scale\n",
    "        if self.shift is not None:\n",
    "            norm_x = norm_x + self.shift\n",
    "        \n",
    "        return norm_x.to(input_dtype)"
   ]
  },
  {
   "cell_type": "code",
   "execution_count": 4,
   "id": "52cf6834",
   "metadata": {},
   "outputs": [],
   "source": [
    "from deps.other_components import precompute_rope_params, compute_rope"
   ]
  },
  {
   "cell_type": "code",
   "execution_count": 5,
   "id": "22b6aa4d",
   "metadata": {},
   "outputs": [],
   "source": [
    "class GroupedQueryAttention(nn.Module):\n",
    "    def __init__(self, d_in, num_heads, num_kv_groups,\n",
    "                    head_dim=None, dtype=None):\n",
    "        super().__init__()\n",
    "        assert num_heads % num_kv_groups == 0, 'num_heads must be divisible by num_kv_groups'\n",
    "\n",
    "        self.num_heads = num_heads\n",
    "        self.num_kv_groups = num_kv_groups\n",
    "        self.group_size = num_heads // num_kv_groups\n",
    "\n",
    "        if head_dim is None:\n",
    "            assert d_in % num_heads == 0, 'd_in must be divisible by num_heads if head_dim is not provided'\n",
    "            head_dim = d_in // num_heads\n",
    "        self.head_dim = head_dim\n",
    "        # if head_dim not provided then:\n",
    "        #   d_out = num_heads * head_dim = num_heads * (d_in / num_heads) = d_in\n",
    "        #   so, d_out = d_in\n",
    "        self.d_out = num_heads*head_dim\n",
    "\n",
    "        self.W_q = nn.Linear(d_in, self.d_out, bias=False, dtype=dtype)\n",
    "        # if head_dim not provided, then:\n",
    "        #   num_kv_groups * head_dim = num_kv_groups * d_in / num_heads\n",
    "        #       = (num_kv_groups / num_heads) * d_in\n",
    "        #       = (1 / group_size) * d_in = d_in / group_size\n",
    "        # in GQA, K and V are repeated \"group_size\" times, so:\n",
    "        #       = group_size * ((1 / group_size) * d_in)\n",
    "        #       = d_in\n",
    "        self.W_k = nn.Linear(d_in, num_kv_groups*head_dim, bias=False, dtype=dtype)\n",
    "        self.W_v = nn.Linear(d_in, num_kv_groups*head_dim, bias=False, dtype=dtype)\n",
    "\n",
    "        self.out_proj = nn.Linear(self.d_out, d_in, bias=False, dtype=dtype)\n",
    "\n",
    "        # new, QK-Norm\n",
    "        self.q_norm = RMSNorm_Qwen(head_dim, eps=1e-6)\n",
    "        self.k_norm = RMSNorm_Qwen(head_dim, eps=1e-6)\n",
    "    \n",
    "    def forward(self, x, mask, cos, sin):\n",
    "        b, num_tokens, _ = x.shape\n",
    "\n",
    "        queries = self.W_q(x)  # (b, num_tokens, num_heads * head_dim)\n",
    "        keys = self.W_k(x)  # (b, num_tokens, num_kv_groups * head_dim)\n",
    "        values = self.W_v(x)  # (b, num_tokens, num_kv_groups * head_dim)\n",
    "\n",
    "        # \"un-flatten\" last dims\n",
    "        queries = queries.view(b, num_tokens, self.num_heads, self.head_dim)\n",
    "        keys = keys.view(b, num_tokens, self.num_kv_groups, self.head_dim)\n",
    "        values = values.view(b, num_tokens, self.num_kv_groups, self.head_dim)\n",
    "        \n",
    "        queries = queries.transpose(1,2)\n",
    "        keys = keys.transpose(1,2)\n",
    "        values = values.transpose(1,2)\n",
    "\n",
    "        # new\n",
    "        queries = self.q_norm(queries)\n",
    "        keys = self.k_norm(keys)\n",
    "\n",
    "        queries = compute_rope(queries, cos, sin)\n",
    "        keys = compute_rope(keys, cos, sin)\n",
    "\n",
    "        # (..., head_dim, num_kv_groups) -> (..., head_dim, num_heads)\n",
    "        #   num_heads / num_kv_groups = group_size\n",
    "        #   => num_heads = num_kv_groups * group_size\n",
    "        keys = keys.repeat_interleave(self.group_size, dim=1)\n",
    "        values = values.repeat_interleave(self.group_size, dim=1)\n",
    "\n",
    "        attn_scores = queries @ keys.transpose(2,3)\n",
    "        attn_scores = attn_scores.masked_fill(mask, -torch.inf)\n",
    "        attn_weights = torch.softmax(attn_scores / self.head_dim**0.5, dim=-1)\n",
    "\n",
    "        context = (attn_weights @ values).transpose(1,2).reshape(b, num_tokens, self.d_out)\n",
    "        return self.out_proj(context)"
   ]
  },
  {
   "cell_type": "code",
   "execution_count": 6,
   "id": "72aaeaaa",
   "metadata": {},
   "outputs": [],
   "source": [
    "class TransformerBlock(nn.Module):\n",
    "    def __init__(self, cfg):\n",
    "        super().__init__()\n",
    "        \n",
    "        self.attn = GroupedQueryAttention(\n",
    "            d_in=cfg['emb_dim'],\n",
    "            num_heads=cfg['n_heads'],\n",
    "            head_dim=cfg['head_dim'],\n",
    "            num_kv_groups=cfg['n_kv_groups'],\n",
    "            dtype=cfg['dtype'],\n",
    "        )\n",
    "\n",
    "        self.ff = FeedForward_SwiGLU(cfg)\n",
    "        self.norm1 = RMSNorm_Qwen(cfg['emb_dim'], eps=1e-6)\n",
    "        self.norm2 = RMSNorm_Qwen(cfg['emb_dim'], eps=1e-6)\n",
    "    \n",
    "    def forward(self, x, mask, cos, sin):\n",
    "        shortcut = x\n",
    "        x = self.norm1(x)\n",
    "        x = self.attn(x, mask, cos, sin)\n",
    "        x = x + shortcut\n",
    "\n",
    "        shortcut = x\n",
    "        x = self.norm2(x)\n",
    "        x = self.ff(x)\n",
    "        x = x + shortcut\n",
    "\n",
    "        return x\n"
   ]
  },
  {
   "cell_type": "code",
   "execution_count": 7,
   "id": "6855ab04",
   "metadata": {},
   "outputs": [],
   "source": [
    "class Qwen3Model(nn.Module):\n",
    "    def __init__(self, cfg):\n",
    "        super().__init__()\n",
    "\n",
    "        self.tok_emb = nn.Embedding(cfg['vocab_size'], cfg['emb_dim'], dtype=cfg['dtype'])\n",
    "        self.trf_blocks = nn.ModuleList([\n",
    "            TransformerBlock(cfg)\n",
    "            for _ in range(cfg['n_layers'])\n",
    "        ])\n",
    "\n",
    "        self.final_norm = RMSNorm_Qwen(cfg['emb_dim'])\n",
    "        self.out_head = nn.Linear(cfg['emb_dim'], cfg['vocab_size'], bias=False, dtype=cfg['dtype'])\n",
    "\n",
    "        if cfg['head_dim'] is None:\n",
    "            head_dim = cfg['emb_dim'] // cfg['n_heads']\n",
    "        else:\n",
    "            head_dim = cfg['head_dim']\n",
    "        \n",
    "        cos, sin = precompute_rope_params(head_dim, theta_base=cfg['rope_base'], context_len=cfg['context_len'])\n",
    "        self.register_buffer('cos', cos, persistent=False)\n",
    "        self.register_buffer('sin', sin, persistent=False)\n",
    "        self.cfg = cfg\n",
    "    \n",
    "    def forward(self, in_idx):\n",
    "        tok_embs = self.tok_emb(in_idx)\n",
    "        x = tok_embs\n",
    "\n",
    "        num_tokens = x.shape[1]\n",
    "        mask = torch.triu(torch.ones(num_tokens, num_tokens, device=x.device, dtype=torch.bool), diagonal=1)\n",
    "\n",
    "        for block in self.trf_blocks:\n",
    "            x = block(x, mask, self.cos, self.sin)\n",
    "        \n",
    "        x = self.final_norm(x)\n",
    "        logits = self.out_head(x.to(self.cfg['dtype']))\n",
    "        return logits"
   ]
  },
  {
   "cell_type": "code",
   "execution_count": 8,
   "id": "96c61399",
   "metadata": {},
   "outputs": [],
   "source": [
    "# 0.6B config\n",
    "QWEN_0_6B_CONFIG = {\n",
    "    'vocab_size': 151_936,\n",
    "    'context_len': 40_960,\n",
    "    'emb_dim': 1024,\n",
    "    'n_heads': 16,\n",
    "    'n_layers': 28,\n",
    "    'hidden_dim': 3072,\n",
    "    'head_dim': 128,\n",
    "    'n_kv_groups': 8,\n",
    "    'rope_base': 1_000_000.0,\n",
    "    'dtype': torch.bfloat16,\n",
    "}\n",
    "\n",
    "torch.manual_seed(123)\n",
    "model = Qwen3Model(QWEN_0_6B_CONFIG)"
   ]
  },
  {
   "cell_type": "code",
   "execution_count": 9,
   "id": "ad4a7a30",
   "metadata": {},
   "outputs": [
    {
     "data": {
      "text/plain": [
       "tensor([[[-0.2197, -0.0109, -0.7227,  ...,  0.4316,  0.1216,  1.0781],\n",
       "         [-0.6445,  0.5391, -0.0767,  ..., -0.0771,  0.5312,  0.3008],\n",
       "         [-0.4727, -0.1582,  0.1172,  ..., -0.2305,  0.2334,  0.6367]]],\n",
       "       dtype=torch.bfloat16, grad_fn=<UnsafeViewBackward0>)"
      ]
     },
     "execution_count": 9,
     "metadata": {},
     "output_type": "execute_result"
    }
   ],
   "source": [
    "# verify\n",
    "model(torch.tensor([1,2,3]).unsqueeze(0))"
   ]
  },
  {
   "cell_type": "code",
   "execution_count": 11,
   "id": "c0755caa",
   "metadata": {},
   "outputs": [
    {
     "name": "stdout",
     "output_type": "stream",
     "text": [
      "Total Parameters: 751,632,384\n",
      "Total Unique Parameters: 596,049,920\n"
     ]
    }
   ],
   "source": [
    "total_params = sum(p.numel() for p in model.parameters())\n",
    "print(f'Total Parameters: {total_params:,}')\n",
    "\n",
    "# account for weight tying\n",
    "total_params = total_params - model.tok_emb.weight.numel()\n",
    "print(f'Total Unique Parameters: {total_params:,}')"
   ]
  },
  {
   "cell_type": "code",
   "execution_count": null,
   "id": "7b2cc209",
   "metadata": {},
   "outputs": [],
   "source": []
  }
 ],
 "metadata": {
  "kernelspec": {
   "display_name": "code-book",
   "language": "python",
   "name": "python3"
  },
  "language_info": {
   "codemirror_mode": {
    "name": "ipython",
    "version": 3
   },
   "file_extension": ".py",
   "mimetype": "text/x-python",
   "name": "python",
   "nbconvert_exporter": "python",
   "pygments_lexer": "ipython3",
   "version": "3.12.1"
  }
 },
 "nbformat": 4,
 "nbformat_minor": 5
}
