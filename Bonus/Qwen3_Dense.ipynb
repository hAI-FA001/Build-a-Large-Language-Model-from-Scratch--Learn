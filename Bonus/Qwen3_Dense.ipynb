{
 "cells": [
  {
   "cell_type": "code",
   "execution_count": 1,
   "id": "2eb44a5a",
   "metadata": {},
   "outputs": [],
   "source": [
    "import torch\n",
    "import torch.nn as nn"
   ]
  },
  {
   "cell_type": "code",
   "execution_count": 2,
   "id": "5cb3669f",
   "metadata": {},
   "outputs": [],
   "source": [
    "from deps.other_components import FeedForward_SwiGLU"
   ]
  },
  {
   "cell_type": "code",
   "execution_count": 3,
   "id": "80781711",
   "metadata": {},
   "outputs": [],
   "source": [
    "class RMSNorm_Qwen(nn.Module):\n",
    "    def __init__(self, emb_dim, eps=1e-6, bias=False):\n",
    "        super().__init__()\n",
    "\n",
    "        self.eps = eps\n",
    "        # Llama had only 1 parameter\n",
    "        self.scale = nn.Parameter(torch.ones(emb_dim))\n",
    "        self.shift = nn.Parameter(torch.zeros(emb_dim)) if bias else None\n",
    "    \n",
    "    def forward(self, x):\n",
    "        input_dtype = x.dtype\n",
    "        x = x.to(torch.float32)  # for Qwen\n",
    "        \n",
    "        # RMSNorm\n",
    "        variance = x.pow(2).mean(dim=-1, keepdim=True)\n",
    "        norm_x = x * torch.rsqrt(variance + self.eps)\n",
    "\n",
    "        # new\n",
    "        norm_x = norm_x * self.scale\n",
    "        if self.shift is not None:\n",
    "            norm_x = norm_x + self.shift\n",
    "        \n",
    "        return norm_x.to(input_dtype)"
   ]
  },
  {
   "cell_type": "code",
   "execution_count": null,
   "id": "52cf6834",
   "metadata": {},
   "outputs": [],
   "source": []
  }
 ],
 "metadata": {
  "kernelspec": {
   "display_name": "code-book",
   "language": "python",
   "name": "python3"
  },
  "language_info": {
   "codemirror_mode": {
    "name": "ipython",
    "version": 3
   },
   "file_extension": ".py",
   "mimetype": "text/x-python",
   "name": "python",
   "nbconvert_exporter": "python",
   "pygments_lexer": "ipython3",
   "version": "3.12.1"
  }
 },
 "nbformat": 4,
 "nbformat_minor": 5
}
